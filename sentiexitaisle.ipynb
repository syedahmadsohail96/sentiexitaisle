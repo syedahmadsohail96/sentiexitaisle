{
  "nbformat": 4,
  "nbformat_minor": 0,
  "metadata": {
    "colab": {
      "provenance": []
    },
    "kernelspec": {
      "name": "python3",
      "display_name": "Python 3"
    },
    "language_info": {
      "name": "python"
    }
  },
  "cells": [
    {
      "cell_type": "code",
      "execution_count": null,
      "metadata": {
        "id": "jZxjqMCSyZMO"
      },
      "outputs": [],
      "source": [
        "\n",
        "import tensorflow as tf\n",
        "import tensorflow.keras as keras\n",
        "import tensorflow.keras.datasets as datasets\n",
        "import tensorflow.keras.layers as layers\n",
        "import numpy as np\n",
        "import tensorflow.keras.models as models\n",
        "import tensorflow.keras.preprocessing.sequence as sequence\n",
        "\n",
        "data = datasets.imdb.load_data(num_words=10000, skip_top=10)\n",
        "word_index = datasets.imdb.get_word_index()\n",
        "\n",
        "i2w = dict((i+3, w) for (w,i) in word_index.items())\n",
        "i2w.update({\n",
        "    0: '<PAD>',\n",
        "    1: '<START>',\n",
        "    2: '<OOV>',\n",
        "    3: '<?>',\n",
        "})\n",
        "\n",
        "(x_train, y_train), (x_test, y_test) = data"
      ]
    },
    {
      "cell_type": "code",
      "source": [
        "def ordinal2text(seq):\n",
        "    return \" \".join([i2w[i] for i in seq])\n",
        "\n",
        "ordinal2text(x_train[0])\n",
        "\n",
        "embedding = layers.Embedding(10000, 20)\n",
        "\n",
        "input_seq = np.array([[1,2,3, 3, 2], [1,2, 0, 0, 0]])\n",
        "\n",
        "embedding_vectors = embedding(input_seq)\n",
        "\n",
        "print(input_seq.shape, \"=>\", embedding_vectors.shape)\n",
        "\n",
        "rnn = layers.SimpleRNN(7)\n",
        "\n",
        "output_vector = rnn(embedding_vectors)\n",
        "\n",
        "print(embedding_vectors.shape, \"=>\", output_vector.shape)"
      ],
      "metadata": {
        "colab": {
          "base_uri": "https://localhost:8080/"
        },
        "id": "SZcNJziBzy2v",
        "outputId": "8457fec9-ab93-4e9c-93e1-05d4adce690e"
      },
      "execution_count": null,
      "outputs": [
        {
          "output_type": "stream",
          "name": "stdout",
          "text": [
            "(2, 5) => (2, 5, 20)\n",
            "(2, 5, 20) => (2, 7)\n"
          ]
        }
      ]
    },
    {
      "cell_type": "code",
      "source": [
        "dense = layers.Dense(1, activation='sigmoid')\n",
        "output = dense(output_vector)\n",
        "\n",
        "print(output_vector.shape, \"=>\", output.shape)\n",
        "batch = x_train[:5]\n",
        "\n",
        "[len(x) for x in batch]\n",
        "padded_batch = sequence.pad_sequences(batch, maxlen=200)\n",
        "[len(x) for x in padded_batch]\n",
        "\n",
        "maxlen = 200\n",
        "inputs = layers.Input(shape=(maxlen))\n",
        "\n",
        "x = embedding(inputs)\n",
        "x = rnn(x)\n",
        "sentiment_output = dense(x)\n",
        "\n",
        "model = models.Model(inputs=inputs, outputs=sentiment_output)\n",
        "model.compile(optimizer='adam', loss='binary_crossentropy', metrics=['acc'])"
      ],
      "metadata": {
        "colab": {
          "base_uri": "https://localhost:8080/"
        },
        "id": "F0rSzar3z9KP",
        "outputId": "73b5d69b-7ecc-4e71-be0f-8b58592088fd"
      },
      "execution_count": null,
      "outputs": [
        {
          "output_type": "stream",
          "name": "stdout",
          "text": [
            "(2, 7) => (2, 1)\n"
          ]
        }
      ]
    },
    {
      "cell_type": "code",
      "source": [
        "x_train_padded = sequence.pad_sequences(x_train, maxlen=maxlen)\n",
        "model.fit(x_train_padded, y_train, epochs=5, validation_split=0.2)\n",
        "\n",
        "w2i = {w:i for (i,w) in i2w.items()}\n",
        "\n",
        "def text2ordinal(text):\n",
        "    return [w2i.get(w, 2) for w in text.split()]\n",
        "\n"
      ],
      "metadata": {
        "colab": {
          "base_uri": "https://localhost:8080/"
        },
        "id": "iNHJamr10Cwu",
        "outputId": "59674bad-2922-4f3c-a80f-4a4e358e365d"
      },
      "execution_count": null,
      "outputs": [
        {
          "output_type": "stream",
          "name": "stdout",
          "text": [
            "Epoch 1/5\n",
            "625/625 [==============================] - 26s 42ms/step - loss: 0.2043 - acc: 0.9288 - val_loss: 0.6000 - val_acc: 0.7566\n",
            "Epoch 2/5\n",
            "625/625 [==============================] - 24s 38ms/step - loss: 0.1316 - acc: 0.9594 - val_loss: 0.6079 - val_acc: 0.7746\n",
            "Epoch 3/5\n",
            "625/625 [==============================] - 25s 40ms/step - loss: 0.0933 - acc: 0.9725 - val_loss: 0.6977 - val_acc: 0.7610\n",
            "Epoch 4/5\n",
            "625/625 [==============================] - 24s 38ms/step - loss: 0.0575 - acc: 0.9851 - val_loss: 0.7481 - val_acc: 0.7640\n",
            "Epoch 5/5\n",
            "625/625 [==============================] - 24s 38ms/step - loss: 0.0419 - acc: 0.9898 - val_loss: 0.8275 - val_acc: 0.7584\n"
          ]
        }
      ]
    },
    {
      "cell_type": "code",
      "source": [
        "txt = text2ordinal(input(\"Please paste the review here for sentiment analysis: \\n\"))\n",
        "pre_txt=model.predict(sequence.pad_sequences([txt], maxlen=maxlen))\n",
        "if pre_txt > 0.5:\n",
        "  print('The Review is '+color.BOLD + 'POSITIVE' + color.END)\n",
        "else:\n",
        "  print('The Review is '+color.BOLD + 'NEGATIVE' + color.END)"
      ],
      "metadata": {
        "colab": {
          "base_uri": "https://localhost:8080/"
        },
        "id": "EBtTBEU10FfW",
        "outputId": "3a320e0d-9e1b-42bf-8d5f-3906a00495a3"
      },
      "execution_count": null,
      "outputs": [
        {
          "output_type": "stream",
          "name": "stdout",
          "text": [
            "Please paste the review here for sentiment analysis: \n",
            "bad plot\n",
            "1/1 [==============================] - 0s 21ms/step\n",
            "The Review is \u001b[1mNEGATIVE\u001b[0m\n"
          ]
        }
      ]
    },
    {
      "cell_type": "code",
      "source": [
        "!pip install SpeechRecognition\n",
        "\n",
        "import speech_recognition as sr\n",
        "\n",
        "r = sr.Recognizer()\n",
        "\n",
        "with sr.AudioFile(\"/content/Positive.wav\") as source:\n",
        "    audio = r.record(source)\n",
        "\n",
        "text = r.recognize_google(audio, language='en-US')\n",
        "\n",
        "print(text)"
      ],
      "metadata": {
        "colab": {
          "base_uri": "https://localhost:8080/"
        },
        "id": "wcnZvG0Z3ZI-",
        "outputId": "c03efe57-c45d-4eda-ae2d-cd401d019a73"
      },
      "execution_count": null,
      "outputs": [
        {
          "output_type": "stream",
          "name": "stdout",
          "text": [
            "Looking in indexes: https://pypi.org/simple, https://us-python.pkg.dev/colab-wheels/public/simple/\n",
            "Requirement already satisfied: SpeechRecognition in /usr/local/lib/python3.8/dist-packages (3.9.0)\n",
            "Requirement already satisfied: requests>=2.26.0 in /usr/local/lib/python3.8/dist-packages (from SpeechRecognition) (2.28.2)\n",
            "Requirement already satisfied: idna<4,>=2.5 in /usr/local/lib/python3.8/dist-packages (from requests>=2.26.0->SpeechRecognition) (2.10)\n",
            "Requirement already satisfied: charset-normalizer<4,>=2 in /usr/local/lib/python3.8/dist-packages (from requests>=2.26.0->SpeechRecognition) (2.1.1)\n",
            "Requirement already satisfied: certifi>=2017.4.17 in /usr/local/lib/python3.8/dist-packages (from requests>=2.26.0->SpeechRecognition) (2022.12.7)\n",
            "Requirement already satisfied: urllib3<1.27,>=1.21.1 in /usr/local/lib/python3.8/dist-packages (from requests>=2.26.0->SpeechRecognition) (1.24.3)\n",
            "result2:\n",
            "{   'alternative': [   {   'confidence': 0.94401187,\n",
            "                           'transcript': 'it was an amazing movie'},\n",
            "                       {'transcript': \"it wasn't amazing movie\"},\n",
            "                       {'transcript': \"it wasn't an amazing movie\"},\n",
            "                       {'transcript': 'he was an amazing movie'},\n",
            "                       {'transcript': 'was an amazing movie'}],\n",
            "    'final': True}\n",
            "it was an amazing movie\n"
          ]
        }
      ]
    },
    {
      "cell_type": "code",
      "source": [
        "P=0\n",
        "N=0"
      ],
      "metadata": {
        "id": "pqS8cc2z8K4t"
      },
      "execution_count": null,
      "outputs": []
    },
    {
      "cell_type": "code",
      "source": [
        "text = text2ordinal(text)\n",
        "pre_txt=model.predict(sequence.pad_sequences([text], maxlen=maxlen))\n",
        "\n",
        "if pre_txt > 0.5:\n",
        "  print('The Review is '+color.BOLD + 'POSITIVE' + color.END)\n",
        "  P = P + 1\n",
        "else:\n",
        "  print('The Review is '+color.BOLD + 'NEGATIVE' + color.END)\n",
        "  N = N + 1"
      ],
      "metadata": {
        "colab": {
          "base_uri": "https://localhost:8080/"
        },
        "id": "lVigx5ef7zfb",
        "outputId": "92cb6c2b-5b4f-477e-e80d-e776e9f5808c"
      },
      "execution_count": null,
      "outputs": [
        {
          "output_type": "stream",
          "name": "stdout",
          "text": [
            "1/1 [==============================] - 0s 28ms/step\n",
            "The Review is \u001b[1mPOSITIVE\u001b[0m\n"
          ]
        }
      ]
    },
    {
      "cell_type": "code",
      "source": [
        "import speech_recognition as sr\n",
        "\n",
        "r = sr.Recognizer()\n",
        "\n",
        "with sr.AudioFile(\"/content/Negative.wav\") as source:\n",
        "    audio = r.record(source)\n",
        "\n",
        "text = text2ordinal(r.recognize_google(audio, language='en-US'))"
      ],
      "metadata": {
        "colab": {
          "base_uri": "https://localhost:8080/"
        },
        "id": "90xWcLHD9nf8",
        "outputId": "082d484b-13d8-43d6-b947-215cb1cd55e4"
      },
      "execution_count": null,
      "outputs": [
        {
          "output_type": "stream",
          "name": "stdout",
          "text": [
            "result2:\n",
            "{   'alternative': [   {   'confidence': 0.97219551,\n",
            "                           'transcript': 'the plot of this movie was very '\n",
            "                                         'bad'}],\n",
            "    'final': True}\n"
          ]
        }
      ]
    },
    {
      "cell_type": "code",
      "source": [
        "pre_txt=model.predict(sequence.pad_sequences([text], maxlen=maxlen))\n",
        "\n",
        "if pre_txt > 0.5:\n",
        "  print('The Review is '+color.BOLD + 'POSITIVE' + color.END)\n",
        "  P = P + 1\n",
        "else:\n",
        "  print('The Review is '+color.BOLD + 'NEGATIVE' + color.END)\n",
        "  N = N + 1"
      ],
      "metadata": {
        "colab": {
          "base_uri": "https://localhost:8080/"
        },
        "id": "cs-XcVwT98lf",
        "outputId": "c4d59615-67be-46f6-a7c7-984a8727bd77"
      },
      "execution_count": null,
      "outputs": [
        {
          "output_type": "stream",
          "name": "stdout",
          "text": [
            "1/1 [==============================] - 0s 26ms/step\n",
            "The Review is \u001b[1mNEGATIVE\u001b[0m\n"
          ]
        }
      ]
    }
  ]
}